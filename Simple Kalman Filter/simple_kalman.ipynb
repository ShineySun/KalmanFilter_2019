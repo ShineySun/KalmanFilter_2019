{
  "nbformat": 4,
  "nbformat_minor": 0,
  "metadata": {
    "colab": {
      "name": "simple_kalman.ipynb",
      "provenance": [],
      "collapsed_sections": [],
      "authorship_tag": "ABX9TyOG4Z7+y4IDSYrbg1F+p1ff",
      "include_colab_link": true
    },
    "kernelspec": {
      "name": "python3",
      "display_name": "Python 3"
    }
  },
  "cells": [
    {
      "cell_type": "markdown",
      "metadata": {
        "id": "view-in-github",
        "colab_type": "text"
      },
      "source": [
        "<a href=\"https://colab.research.google.com/github/ShineySun/KalmanFilter_2019/blob/master/simple_kalman.ipynb\" target=\"_parent\"><img src=\"https://colab.research.google.com/assets/colab-badge.svg\" alt=\"Open In Colab\"/></a>"
      ]
    },
    {
      "cell_type": "code",
      "metadata": {
        "id": "S2WZP2cDwjDl",
        "colab_type": "code",
        "colab": {
          "base_uri": "https://localhost:8080/",
          "height": 35
        },
        "outputId": "5c1268ed-75e7-46d2-d7bf-5e673f259c5f"
      },
      "source": [
        "## 2020 02 07\n",
        "## Simple Kalman FIlter Practice Code\n",
        "## KMU FOSCAR - UROP GPS & IMU Localization Project\n",
        "\n",
        "\n",
        "import numpy as np\n",
        "import matplotlib.pyplot as plt\n",
        "\n",
        "# Generate Input Data\n",
        "def getVolt():\n",
        "  w = 0 + 4*np.random.randn(1) \n",
        "  #print(w)\n",
        "  z = 14.4 + w;\n",
        "\n",
        "  return z\n",
        "\n",
        "# test\n",
        "z = getVolt()\n",
        "\n",
        "print(\"Test Print\",z)\n"
      ],
      "execution_count": 114,
      "outputs": [
        {
          "output_type": "stream",
          "text": [
            "Test Print [18.00782504]\n"
          ],
          "name": "stdout"
        }
      ]
    },
    {
      "cell_type": "code",
      "metadata": {
        "id": "JR-MMOdtxaX2",
        "colab_type": "code",
        "colab": {
          "base_uri": "https://localhost:8080/",
          "height": 35
        },
        "outputId": "d9c589c1-a133-4b7d-d6dc-621ae777c795"
      },
      "source": [
        "A = -1\n",
        "H = -1\n",
        "Q = -1\n",
        "R = -1\n",
        "x = -1\n",
        "P = -1\n",
        "first_run = True\n",
        "\n",
        "def simple_kalman(z):\n",
        "  #print(\"kalman 들어가니?\")\n",
        "  global first_run\n",
        "  global A\n",
        "  global H\n",
        "  global Q\n",
        "  global R\n",
        "  global x\n",
        "  global P\n",
        "\n",
        "  # Initialize System Model\n",
        "  if first_run:\n",
        "    A = 1\n",
        "    H = 1\n",
        "    Q = 0\n",
        "    R = 4\n",
        "    x = 14\n",
        "    P = 6\n",
        "    first_run = False\n",
        "\n",
        "  # p 는 predict  의 약자\n",
        "  # 추정값 예측 \n",
        "  x_p = A*x\n",
        "  #print(\"x_p : \", x_p)\n",
        "\n",
        "  # 오차 공분산 예측\n",
        "  P_p = A*P*np.transpose(A)\n",
        "  #print(\"P_p : \", P_p)\n",
        "\n",
        "  # 칼만 이득 계산\n",
        "  # K = P_p*np.transpose(H)*np.linalg.inv(H*P_p*np.transpose(H)+R)\n",
        "  # 1차 행렬의 역함수는 1/m\n",
        "  K = P_p*np.transpose(H)/(H*P_p*np.transpose(H)+R)\n",
        "  #print(K)\n",
        "\n",
        "  # 추정값 계산\n",
        "  x = x_p + K*(z - H*x_p)\n",
        "  # 오차 공분산 계산\n",
        "  P = P_p - K*H*P_p\n",
        "  \n",
        "  return x\n",
        "\n",
        "volt = simple_kalman(z)\n",
        "\n",
        "print(\"Test Print\", volt)\n"
      ],
      "execution_count": 115,
      "outputs": [
        {
          "output_type": "stream",
          "text": [
            "Test Print [16.40469502]\n"
          ],
          "name": "stdout"
        }
      ]
    },
    {
      "cell_type": "code",
      "metadata": {
        "id": "miYUIgTK0jmX",
        "colab_type": "code",
        "colab": {}
      },
      "source": [
        "### Test Program\n",
        "\n",
        "dt = 0.2\n",
        "t = np.arange(0,10,0.2)\n",
        "\n",
        "N_samples = len(t)\n",
        "#print(N_samples)\n",
        "\n",
        "x_saved = np.zeros(N_samples)\n",
        "z_saved = np.zeros(N_samples)\n",
        "\n",
        "for i in range(N_samples):\n",
        "  z1 = getVolt()\n",
        "  #print(z)\n",
        "  volt = simple_kalman(z1)\n",
        "  #print(volt)\n",
        "\n",
        "  x_saved[i] = volt\n",
        "  z_saved[i] = z1\n",
        "\n",
        " # print(x_saved)\n"
      ],
      "execution_count": 0,
      "outputs": []
    },
    {
      "cell_type": "code",
      "metadata": {
        "id": "X-321ZSN4dQm",
        "colab_type": "code",
        "colab": {
          "base_uri": "https://localhost:8080/",
          "height": 283
        },
        "outputId": "0f5ee1ab-0ffc-45c2-fd20-ed9205facf15"
      },
      "source": [
        "plt.figure(1)\n",
        "\n",
        "# filtering data\n",
        "plt.plot(t,x_saved,'bo--')\n",
        "# raw data\n",
        "plt.plot(t,z_saved,\"r*-\")"
      ],
      "execution_count": 117,
      "outputs": [
        {
          "output_type": "execute_result",
          "data": {
            "text/plain": [
              "[<matplotlib.lines.Line2D at 0x7f560bdc96a0>]"
            ]
          },
          "metadata": {
            "tags": []
          },
          "execution_count": 117
        },
        {
          "output_type": "display_data",
          "data": {
            "image/png": "[encoded data removed]",
            "text/plain": [
              "<Figure size 432x288 with 1 Axes>"
            ]
          },
          "metadata": {
            "tags": []
          }
        }
      ]
    },
    {
      "cell_type": "code",
      "metadata": {
        "id": "JynejFgU51Uy",
        "colab_type": "code",
        "colab": {}
      },
      "source": [
        ""
      ],
      "execution_count": 0,
      "outputs": []
    }
  ]
}