{
  "nbformat": 4,
  "nbformat_minor": 0,
  "metadata": {
    "colab": {
      "name": "simple_kalman.ipynb",
      "provenance": [],
      "collapsed_sections": [],
      "include_colab_link": true
    },
    "kernelspec": {
      "name": "python3",
      "display_name": "Python 3"
    }
  },
  "cells": [
    {
      "cell_type": "markdown",
      "metadata": {
        "id": "view-in-github",
        "colab_type": "text"
      },
      "source": [
        "<a href=\"https://colab.research.google.com/github/ShineySun/KalmanFilter_2019/blob/master/simple_kalman.ipynb\" target=\"_parent\"><img src=\"https://colab.research.google.com/assets/colab-badge.svg\" alt=\"Open In Colab\"/></a>"
      ]
    },
    {
      "cell_type": "code",
      "metadata": {
        "id": "S2WZP2cDwjDl",
        "colab_type": "code",
        "outputId": "e952c31d-15f7-4ae8-8389-3202bbb3a1d5",
        "colab": {
          "base_uri": "https://localhost:8080/",
          "height": 35
        }
      },
      "source": [
        "## 2020 02 07\n",
        "## Simple Kalman FIlter Practice Code\n",
        "## KMU FOSCAR - UROP GPS & IMU Localization Project\n",
        "\n",
        "\n",
        "import numpy as np\n",
        "import matplotlib.pyplot as plt\n",
        "\n",
        "# Generate Input Data\n",
        "def getVolt():\n",
        "  w = 0 + 4*np.random.randn(1) \n",
        "  #print(w)\n",
        "  z = 14.4 + w;\n",
        "\n",
        "  return z\n",
        "\n",
        "# test\n",
        "z = getVolt()\n",
        "\n",
        "print(\"Test Print\",z)\n"
      ],
      "execution_count": 21,
      "outputs": [
        {
          "output_type": "stream",
          "text": [
            "Test Print [19.27935018]\n"
          ],
          "name": "stdout"
        }
      ]
    },
    {
      "cell_type": "code",
      "metadata": {
        "id": "JR-MMOdtxaX2",
        "colab_type": "code",
        "outputId": "e85e2b48-3a84-4c21-a1a6-cf7a3148f0dc",
        "colab": {
          "base_uri": "https://localhost:8080/",
          "height": 35
        }
      },
      "source": [
        "A = -1\n",
        "H = -1\n",
        "Q = -1\n",
        "R = -1\n",
        "x = -1\n",
        "P = -1\n",
        "first_run = True\n",
        "\n",
        "def simple_kalman(z):\n",
        "  #print(\"kalman 들어가니?\")\n",
        "  global first_run\n",
        "  global A\n",
        "  global H\n",
        "  global Q\n",
        "  global R\n",
        "  global x\n",
        "  global P\n",
        "\n",
        "  # Initialize System Model\n",
        "  if first_run:\n",
        "    A = 1\n",
        "    H = 1\n",
        "    Q = 0\n",
        "    R = 4\n",
        "    x = 14\n",
        "    # x = 0\n",
        "    P = 6\n",
        "    first_run = False\n",
        "\n",
        "  # p 는 predict  의 약자\n",
        "  # 추정값 예측 \n",
        "  x_p = A*x\n",
        "  #print(\"x_p : \", x_p)\n",
        "\n",
        "  # 오차 공분산 예측\n",
        "  P_p = A*P*np.transpose(A)\n",
        "  #print(\"P_p : \", P_p)\n",
        "\n",
        "  # 칼만 이득 계산\n",
        "  # K = P_p*np.transpose(H)*np.linalg.inv(H*P_p*np.transpose(H)+R)\n",
        "  # 1차 행렬의 역함수는 1/m\n",
        "  K = P_p*np.transpose(H)/(H*P_p*np.transpose(H)+R)\n",
        "  #print(K)\n",
        "\n",
        "  # 추정값 계산\n",
        "  x = x_p + K*(z - H*x_p)\n",
        "  # 오차 공분산 계산\n",
        "  P = P_p - K*H*P_p\n",
        "  \n",
        "  return x\n",
        "\n",
        "volt = simple_kalman(z)\n",
        "\n",
        "print(\"Test Print\", volt)\n"
      ],
      "execution_count": 67,
      "outputs": [
        {
          "output_type": "stream",
          "text": [
            "Test Print 5.582342000000001\n"
          ],
          "name": "stdout"
        }
      ]
    },
    {
      "cell_type": "code",
      "metadata": {
        "id": "miYUIgTK0jmX",
        "colab_type": "code",
        "colab": {}
      },
      "source": [
        "### Test Program\n",
        "\n",
        "dt = 0.2\n",
        "t = np.arange(0,10,0.2)\n",
        "\n",
        "N_samples = len(t)\n",
        "#print(N_samples)\n",
        "\n",
        "x_saved = np.zeros(N_samples)\n",
        "z_saved = np.zeros(N_samples)\n",
        "\n",
        "for i in range(N_samples):\n",
        "  z1 = getVolt()\n",
        "  #print(z)\n",
        "  volt = simple_kalman(z1)\n",
        "  #print(volt)\n",
        "\n",
        "  x_saved[i] = volt\n",
        "  z_saved[i] = z1\n",
        "\n",
        " # print(x_saved)\n"
      ],
      "execution_count": 0,
      "outputs": []
    },
    {
      "cell_type": "code",
      "metadata": {
        "id": "X-321ZSN4dQm",
        "colab_type": "code",
        "outputId": "67a6ae48-d1e2-4571-bbdc-53348d532d0f",
        "colab": {
          "base_uri": "https://localhost:8080/",
          "height": 283
        }
      },
      "source": [
        "plt.figure(1)\n",
        "\n",
        "# filtering data\n",
        "plt.plot(t,x_saved,'bo--')\n",
        "# raw data\n",
        "plt.plot(t,z_saved,\"r*-\")"
      ],
      "execution_count": 69,
      "outputs": [
        {
          "output_type": "execute_result",
          "data": {
            "text/plain": [
              "[<matplotlib.lines.Line2D at 0x7f814c0e35f8>]"
            ]
          },
          "metadata": {
            "tags": []
          },
          "execution_count": 69
        },
        {
          "output_type": "display_data",
          "data": {
            "image/png": "[encoded data removed]",
            "text/plain": [
              "<Figure size 432x288 with 1 Axes>"
            ]
          },
          "metadata": {
            "tags": []
          }
        }
      ]
    },
    {
      "cell_type": "code",
      "metadata": {
        "id": "JynejFgU51Uy",
        "colab_type": "code",
        "colab": {
          "base_uri": "https://localhost:8080/",
          "height": 35
        },
        "outputId": "0ece53fe-c7bb-440a-c517-4578e216c2e0"
      },
      "source": [
        "!ls"
      ],
      "execution_count": 70,
      "outputs": [
        {
          "output_type": "stream",
          "text": [
            "sample_data  stop.dat\n"
          ],
          "name": "stdout"
        }
      ]
    },
    {
      "cell_type": "code",
      "metadata": {
        "id": "RFTDt9uY8zg2",
        "colab_type": "code",
        "colab": {}
      },
      "source": [
        "## 2020 02 10\n",
        "## Simple Kalman FIlter Practice Code\n",
        "## KMU FOSCAR - UROP GPS & IMU Localization Project\n",
        "import pandas as pd\n",
        "import numpy as np\n",
        "import matplotlib.pyplot as plt\n",
        "import seaborn as sns\n",
        "\n",
        "# Add Imu acc data file\n",
        "data = pd.read_csv('stop.dat',\n",
        "                   sep=' ',\n",
        "                   names = ['x_speed','y_speed','z_speed'],\n",
        "                   engine='python',)\n"
      ],
      "execution_count": 0,
      "outputs": []
    },
    {
      "cell_type": "code",
      "metadata": {
        "id": "8sVTQzo99VB5",
        "colab_type": "code",
        "colab": {
          "base_uri": "https://localhost:8080/",
          "height": 126
        },
        "outputId": "1752f44c-c83f-4e05-94d0-bc73cb826781"
      },
      "source": [
        "print(data.head())"
      ],
      "execution_count": 72,
      "outputs": [
        {
          "output_type": "stream",
          "text": [
            "   x_speed  y_speed  z_speed\n",
            "0      0.0      0.0      0.0\n",
            "1      0.0      0.0      0.0\n",
            "2      0.0      0.0      0.0\n",
            "3      0.0      0.0      0.0\n",
            "4      0.0      0.0      0.0\n"
          ],
          "name": "stdout"
        }
      ]
    },
    {
      "cell_type": "code",
      "metadata": {
        "id": "6FcW7F6T9qLd",
        "colab_type": "code",
        "colab": {
          "base_uri": "https://localhost:8080/",
          "height": 258
        },
        "outputId": "4b9d247f-c543-43a6-8499-05a171db2e90"
      },
      "source": [
        "data.head(7)"
      ],
      "execution_count": 73,
      "outputs": [
        {
          "output_type": "execute_result",
          "data": {
            "text/html": [
              "<div>\n",
              "<style scoped>\n",
              "    .dataframe tbody tr th:only-of-type {\n",
              "        vertical-align: middle;\n",
              "    }\n",
              "\n",
              "    .dataframe tbody tr th {\n",
              "        vertical-align: top;\n",
              "    }\n",
              "\n",
              "    .dataframe thead th {\n",
              "        text-align: right;\n",
              "    }\n",
              "</style>\n",
              "<table border=\"1\" class=\"dataframe\">\n",
              "  <thead>\n",
              "    <tr style=\"text-align: right;\">\n",
              "      <th></th>\n",
              "      <th>x_speed</th>\n",
              "      <th>y_speed</th>\n",
              "      <th>z_speed</th>\n",
              "    </tr>\n",
              "  </thead>\n",
              "  <tbody>\n",
              "    <tr>\n",
              "      <th>0</th>\n",
              "      <td>0.00000</td>\n",
              "      <td>0.00000</td>\n",
              "      <td>0.00000</td>\n",
              "    </tr>\n",
              "    <tr>\n",
              "      <th>1</th>\n",
              "      <td>0.00000</td>\n",
              "      <td>0.00000</td>\n",
              "      <td>0.00000</td>\n",
              "    </tr>\n",
              "    <tr>\n",
              "      <th>2</th>\n",
              "      <td>0.00000</td>\n",
              "      <td>0.00000</td>\n",
              "      <td>0.00000</td>\n",
              "    </tr>\n",
              "    <tr>\n",
              "      <th>3</th>\n",
              "      <td>0.00000</td>\n",
              "      <td>0.00000</td>\n",
              "      <td>0.00000</td>\n",
              "    </tr>\n",
              "    <tr>\n",
              "      <th>4</th>\n",
              "      <td>0.00000</td>\n",
              "      <td>0.00000</td>\n",
              "      <td>0.00000</td>\n",
              "    </tr>\n",
              "    <tr>\n",
              "      <th>5</th>\n",
              "      <td>-0.00981</td>\n",
              "      <td>-0.01962</td>\n",
              "      <td>-0.01962</td>\n",
              "    </tr>\n",
              "    <tr>\n",
              "      <th>6</th>\n",
              "      <td>0.00000</td>\n",
              "      <td>0.00981</td>\n",
              "      <td>0.00981</td>\n",
              "    </tr>\n",
              "  </tbody>\n",
              "</table>\n",
              "</div>"
            ],
            "text/plain": [
              "   x_speed  y_speed  z_speed\n",
              "0  0.00000  0.00000  0.00000\n",
              "1  0.00000  0.00000  0.00000\n",
              "2  0.00000  0.00000  0.00000\n",
              "3  0.00000  0.00000  0.00000\n",
              "4  0.00000  0.00000  0.00000\n",
              "5 -0.00981 -0.01962 -0.01962\n",
              "6  0.00000  0.00981  0.00981"
            ]
          },
          "metadata": {
            "tags": []
          },
          "execution_count": 73
        }
      ]
    },
    {
      "cell_type": "code",
      "metadata": {
        "id": "NnqGbw1wAf1I",
        "colab_type": "code",
        "colab": {}
      },
      "source": [
        "# for i in range(20):\n",
        "#   print(data['speed'][i])"
      ],
      "execution_count": 0,
      "outputs": []
    },
    {
      "cell_type": "code",
      "metadata": {
        "id": "F1aIkWj5931W",
        "colab_type": "code",
        "colab": {
          "base_uri": "https://localhost:8080/",
          "height": 35
        },
        "outputId": "828da6e7-1547-4ce1-a97c-01f9b1262cda"
      },
      "source": [
        "# 3 * x , y, z\n",
        "print(data.size)"
      ],
      "execution_count": 92,
      "outputs": [
        {
          "output_type": "stream",
          "text": [
            "2409\n"
          ],
          "name": "stdout"
        }
      ]
    },
    {
      "cell_type": "code",
      "metadata": {
        "id": "TR4J3TSu_dA-",
        "colab_type": "code",
        "colab": {
          "base_uri": "https://localhost:8080/",
          "height": 35
        },
        "outputId": "924cca27-d294-41ba-b9b6-b5c8309d5f66"
      },
      "source": [
        "A = -1\n",
        "H = -1\n",
        "Q = -1\n",
        "R = -1\n",
        "x = -1\n",
        "P = -1\n",
        "first_run = True\n",
        "\n",
        "def simple_kalman_imu(z):\n",
        "  #print(\"kalman 들어가니?\")\n",
        "  global first_run\n",
        "  global A\n",
        "  global H\n",
        "  global Q\n",
        "  global R\n",
        "  global x\n",
        "  global P\n",
        "\n",
        "  # Initialize System Model\n",
        "  if first_run:\n",
        "    A = 1\n",
        "    H = 1\n",
        "    Q = 0\n",
        "    R = 4\n",
        "    # x = 14\n",
        "    x = 0.0\n",
        "    P = 6\n",
        "    first_run = False\n",
        "\n",
        "  # p 는 predict  의 약자\n",
        "  # 추정값 예측 \n",
        "  x_p = A*x\n",
        "  #print(\"x_p : \", x_p)\n",
        "\n",
        "  # 오차 공분산 예측\n",
        "  P_p = A*P*np.transpose(A)\n",
        "  #print(\"P_p : \", P_p)\n",
        "\n",
        "  # 칼만 이득 계산\n",
        "  # K = P_p*np.transpose(H)*np.linalg.inv(H*P_p*np.transpose(H)+R)\n",
        "  # 1차 행렬의 역함수는 1/m\n",
        "  K = P_p*np.transpose(H)/(H*P_p*np.transpose(H)+R)\n",
        "  #print(K)\n",
        "\n",
        "  # 추정값 계산\n",
        "  x = x_p + K*(z - H*x_p)\n",
        "  # 오차 공분산 계산\n",
        "  P = P_p - K*H*P_p\n",
        "  \n",
        "  return x\n",
        "\n",
        "volt = simple_kalman(z)\n",
        "\n",
        "print(\"Test Print\", volt)\n"
      ],
      "execution_count": 93,
      "outputs": [
        {
          "output_type": "stream",
          "text": [
            "Test Print 0.011772\n"
          ],
          "name": "stdout"
        }
      ]
    },
    {
      "cell_type": "code",
      "metadata": {
        "id": "GYFl44ML-DNT",
        "colab_type": "code",
        "colab": {
          "base_uri": "https://localhost:8080/",
          "height": 35
        },
        "outputId": "913d4524-11f2-4d19-c348-d2f5e3e087cb"
      },
      "source": [
        "### Test Program\n",
        "\n",
        "dt = 0.02\n",
        "t = np.arange(0,10,0.02)\n",
        "\n",
        "N_samples = data.size//3\n",
        "print(\"Data Size : \", N_samples)\n",
        "\n",
        "x_saved = np.zeros(500)\n",
        "z_saved = np.zeros(500)\n",
        "\n",
        "for i in range(500):\n",
        "  z1 = data['x_speed'][i]\n",
        "  #print(z1)\n",
        "  #print(type(z1))\n",
        "  z = float(z1)\n",
        "  #print(type(z1))\n",
        "  \n",
        "  acc = simple_kalman_imu(z)\n",
        "  #print(volt)\n",
        "\n",
        "  x_saved[i] = acc\n",
        "  z_saved[i] = z1\n",
        "\n",
        " # print(x_saved)\n"
      ],
      "execution_count": 94,
      "outputs": [
        {
          "output_type": "stream",
          "text": [
            "Data Size :  803\n"
          ],
          "name": "stdout"
        }
      ]
    },
    {
      "cell_type": "code",
      "metadata": {
        "id": "1kmLdAGw_JzF",
        "colab_type": "code",
        "colab": {
          "base_uri": "https://localhost:8080/",
          "height": 283
        },
        "outputId": "9397d272-5297-44d9-d22e-6faaf048033f"
      },
      "source": [
        "plt.figure(1)\n",
        "\n",
        "# filtering data\n",
        "plt.plot(t,x_saved,'bo--')\n",
        "# raw data\n",
        "plt.plot(t,z_saved,\"y-\")"
      ],
      "execution_count": 95,
      "outputs": [
        {
          "output_type": "execute_result",
          "data": {
            "text/plain": [
              "[<matplotlib.lines.Line2D at 0x7f814bd97080>]"
            ]
          },
          "metadata": {
            "tags": []
          },
          "execution_count": 95
        },
        {
          "output_type": "display_data",
          "data": {
            "image/png": "[encoded data removed]",
            "text/plain": [
              "<Figure size 432x288 with 1 Axes>"
            ]
          },
          "metadata": {
            "tags": []
          }
        }
      ]
    },
    {
      "cell_type": "code",
      "metadata": {
        "id": "cFLveIktBVTs",
        "colab_type": "code",
        "colab": {}
      },
      "source": [
        ""
      ],
      "execution_count": 0,
      "outputs": []
    }
  ]
}