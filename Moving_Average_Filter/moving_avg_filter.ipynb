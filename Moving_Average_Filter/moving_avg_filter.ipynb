{
  "nbformat": 4,
  "nbformat_minor": 0,
  "metadata": {
    "colab": {
      "name": "moving_avg_filter.ipynb",
      "provenance": [],
      "collapsed_sections": [],
      "include_colab_link": true
    },
    "kernelspec": {
      "name": "python3",
      "display_name": "Python 3"
    }
  },
  "cells": [
    {
      "cell_type": "markdown",
      "metadata": {
        "id": "view-in-github",
        "colab_type": "text"
      },
      "source": [
        "<a href=\"https://colab.research.google.com/github/ShineySun/KalmanFilter_2019/blob/master/moving_avg_filter.ipynb\" target=\"_parent\"><img src=\"https://colab.research.google.com/assets/colab-badge.svg\" alt=\"Open In Colab\"/></a>"
      ]
    },
    {
      "cell_type": "markdown",
      "metadata": {
        "id": "Re5v4L1yh2XJ",
        "colab_type": "text"
      },
      "source": [
        "## 이동 평균 필터(Moving Average Filter)\n",
        "#### 모든 측정 데이터가 아닌, 지정된 개수의 최근 측정값만 가지고 계산한 평균\n",
        "#### 새로운 데이터가 들어오면 기존의 것을 버리는 방식으로 데이터 개수를 일정하게 유지하면서 평균을 구한다.\n"
      ]
    },
    {
      "cell_type": "code",
      "metadata": {
        "id": "_0cDuhmifszk",
        "colab_type": "code",
        "colab": {}
      },
      "source": [
        "from scipy import io\n",
        "import numpy as np\n",
        "import pandas as pd\n",
        "from matplotlib import pyplot as plt\n",
        "\n",
        "\n",
        "# read mat file\n",
        "mat_file = io.loadmat('SonarAlt.mat')"
      ],
      "execution_count": 0,
      "outputs": []
    },
    {
      "cell_type": "code",
      "metadata": {
        "id": "N-1w_Xaxf1Lu",
        "colab_type": "code",
        "colab": {
          "base_uri": "https://localhost:8080/",
          "height": 35
        },
        "outputId": "252d4947-4141-4b4d-a298-341fa7e3504d"
      },
      "source": [
        "#mat_file = np.array(mat_file)\n",
        "# read mat file \n",
        "mat_file.keys()"
      ],
      "execution_count": 51,
      "outputs": [
        {
          "output_type": "execute_result",
          "data": {
            "text/plain": [
              "dict_keys(['__header__', '__version__', '__globals__', 'sonarAlt'])"
            ]
          },
          "metadata": {
            "tags": []
          },
          "execution_count": 51
        }
      ]
    },
    {
      "cell_type": "code",
      "metadata": {
        "id": "Feo8ZVArgIor",
        "colab_type": "code",
        "colab": {
          "base_uri": "https://localhost:8080/",
          "height": 54
        },
        "outputId": "401b45a2-6ebd-40ce-ea65-7b86cf2c7169"
      },
      "source": [
        "mat_file['sonarAlt'][0]"
      ],
      "execution_count": 52,
      "outputs": [
        {
          "output_type": "execute_result",
          "data": {
            "text/plain": [
              "array([34.25491256, 33.60223519, 33.60223519, ..., 36.55540305,\n",
              "       36.55540305, 36.55540305])"
            ]
          },
          "metadata": {
            "tags": []
          },
          "execution_count": 52
        }
      ]
    },
    {
      "cell_type": "code",
      "metadata": {
        "id": "kHj5P8oajxNH",
        "colab_type": "code",
        "colab": {
          "base_uri": "https://localhost:8080/",
          "height": 35
        },
        "outputId": "32e4d625-788a-4f46-9575-0e191cd34eb9"
      },
      "source": [
        "max = len(mat_file['sonarAlt'][0])\n",
        "print(max)"
      ],
      "execution_count": 53,
      "outputs": [
        {
          "output_type": "stream",
          "text": [
            "1501\n"
          ],
          "name": "stdout"
        }
      ]
    },
    {
      "cell_type": "code",
      "metadata": {
        "id": "OL27fBVdgKDA",
        "colab_type": "code",
        "colab": {
          "base_uri": "https://localhost:8080/",
          "height": 35
        },
        "outputId": "f7ec2a2c-4e6a-4e6a-e8bd-ee901312c438"
      },
      "source": [
        "#x = np.linspace(0,max,max-1)\n",
        "x = np.arange(max)\n",
        "print(x)"
      ],
      "execution_count": 78,
      "outputs": [
        {
          "output_type": "stream",
          "text": [
            "[   0    1    2 ... 1498 1499 1500]\n"
          ],
          "name": "stdout"
        }
      ]
    },
    {
      "cell_type": "code",
      "metadata": {
        "id": "g2eYpiSLkHZR",
        "colab_type": "code",
        "colab": {
          "base_uri": "https://localhost:8080/",
          "height": 283
        },
        "outputId": "18b5cdda-2f38-47d7-8891-935b92580faf"
      },
      "source": [
        "plt.figure(1)\n",
        "plt.plot(x,mat_file['sonarAlt'][0][0:max],'b.')"
      ],
      "execution_count": 80,
      "outputs": [
        {
          "output_type": "execute_result",
          "data": {
            "text/plain": [
              "[<matplotlib.lines.Line2D at 0x7f01cbf1d908>]"
            ]
          },
          "metadata": {
            "tags": []
          },
          "execution_count": 80
        },
        {
          "output_type": "display_data",
          "data": {
            "image/png": "[encoded data removed]",
            "text/plain": [
              "<Figure size 432x288 with 1 Axes>"
            ]
          },
          "metadata": {
            "tags": []
          }
        }
      ]
    },
    {
      "cell_type": "code",
      "metadata": {
        "id": "Sj17irC8lfHI",
        "colab_type": "code",
        "colab": {}
      },
      "source": [
        "import queue\n",
        "\n",
        "n_size = 6\n",
        "data_queue = queue.Queue(n_size)\n",
        "\n",
        "for i in range(0,n_size):\n",
        "  data_queue.put(mat_file['sonarAlt'][0][0])\n",
        "\n",
        "avg = mat_file['sonarAlt'][0][0]\n",
        "pre_avg = mat_file['sonarAlt'][0][0]\n",
        "\n",
        "def moving_average_filter(x):\n",
        "  global avg\n",
        "  global data_queue\n",
        "  global pre_avg\n",
        "  global n_size\n",
        "\n",
        "  xk_1 = data_queue.get()\n",
        "  data_queue.put(x)\n",
        "  \n",
        "  avg = pre_avg + (x-xk_1)/n_size\n",
        "  pre_avg = avg\n",
        "  \n",
        "  return avg\n"
      ],
      "execution_count": 0,
      "outputs": []
    },
    {
      "cell_type": "code",
      "metadata": {
        "id": "ZCpNWStHD2q3",
        "colab_type": "code",
        "colab": {}
      },
      "source": [
        "avgs = np.zeros(max)\n",
        "avgs[0] = avg\n",
        "\n",
        "for i in range(1,max):\n",
        "  avgs[i] = moving_average_filter(mat_file['sonarAlt'][0][i])\n",
        "  \n",
        "\n"
      ],
      "execution_count": 0,
      "outputs": []
    },
    {
      "cell_type": "code",
      "metadata": {
        "id": "_eDTDje2FgL_",
        "colab_type": "code",
        "colab": {
          "base_uri": "https://localhost:8080/",
          "height": 283
        },
        "outputId": "fc3d197c-98c3-415e-aac9-f94a7c2e9da2"
      },
      "source": [
        "plt.plot(x,mat_file['sonarAlt'][0][0:max],'g.')\n",
        "plt.plot(x,avgs,'r-')"
      ],
      "execution_count": 90,
      "outputs": [
        {
          "output_type": "execute_result",
          "data": {
            "text/plain": [
              "[<matplotlib.lines.Line2D at 0x7f01cbd8b320>]"
            ]
          },
          "metadata": {
            "tags": []
          },
          "execution_count": 90
        },
        {
          "output_type": "display_data",
          "data": {
            "image/png": "[encoded data removed]",
            "text/plain": [
              "<Figure size 432x288 with 1 Axes>"
            ]
          },
          "metadata": {
            "tags": []
          }
        }
      ]
    },
    {
      "cell_type": "code",
      "metadata": {
        "id": "-v66ZXv_GbZ-",
        "colab_type": "code",
        "colab": {}
      },
      "source": [
        ""
      ],
      "execution_count": 0,
      "outputs": []
    }
  ]
}